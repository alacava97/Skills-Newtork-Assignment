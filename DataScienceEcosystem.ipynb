{
 "cells": [
  {
   "cell_type": "markdown",
   "id": "7f64a8bd-6fb3-4fc0-99d8-c2f1ad57598e",
   "metadata": {},
   "source": [
    "# Data Science Tools and Ecosystem"
   ]
  },
  {
   "cell_type": "markdown",
   "id": "9c298462-e9b9-442b-b343-deda28404090",
   "metadata": {},
   "source": [
    "## Author\n",
    "Alexander LaCava"
   ]
  },
  {
   "cell_type": "markdown",
   "id": "2795807a-718a-4c95-9b40-7e3e977280a3",
   "metadata": {},
   "source": [
    "In this notebook, Data Science Tools and Ecosystem are summarized."
   ]
  },
  {
   "cell_type": "markdown",
   "id": "a64eeebd-2d38-4052-b9c4-6329c12b4add",
   "metadata": {},
   "source": [
    "**Objectives:**\n",
    "* List popular libraries for data science\n",
    "* List popular open source tools for data science\n",
    "* Demonstrate basic understanding of markdown cells and formatting\n",
    "* Demonstrate basic understanding of evaluating arithmetic expressions using code"
   ]
  },
  {
   "cell_type": "markdown",
   "id": "570be539-e72d-43f5-b397-1c64962315f9",
   "metadata": {},
   "source": [
    "Some of the popular languages that Data Scientists use are:\n",
    "1. Python\n",
    "2. R\n",
    "3. SQL"
   ]
  },
  {
   "cell_type": "markdown",
   "id": "ad3917ef-2525-4b9e-b75f-22554b173c9a",
   "metadata": {},
   "source": [
    "Some of the commonly used libraries used by Data Scientists include:\n",
    "1. numpy (python)\n",
    "2. pandas (python)\n",
    "3. caret (r)"
   ]
  },
  {
   "cell_type": "markdown",
   "id": "cd1a9511-a47b-4610-b3c8-384d1477add8",
   "metadata": {},
   "source": [
    "|Data Science Tools|\n",
    "|------------------|\n",
    "|Jupyter Lab|\n",
    "|r studio|\n",
    "|spyder|"
   ]
  },
  {
   "cell_type": "markdown",
   "id": "81904f2e-1186-4a9d-ba66-e80f6b232770",
   "metadata": {},
   "source": [
    "### Below are a few examples of evaluating arethmetic expressions in Python"
   ]
  },
  {
   "cell_type": "code",
   "execution_count": 2,
   "id": "c153b8ee-12d4-4061-9523-166e7015e8d1",
   "metadata": {},
   "outputs": [
    {
     "data": {
      "text/plain": [
       "17"
      ]
     },
     "execution_count": 2,
     "metadata": {},
     "output_type": "execute_result"
    }
   ],
   "source": [
    "#This is a simple arithmetic expression to multiply then add integers.\n",
    "(3*4)+5"
   ]
  },
  {
   "cell_type": "code",
   "execution_count": 10,
   "id": "198dfb1e-e0b9-44db-aed8-ce1a30b624eb",
   "metadata": {},
   "outputs": [
    {
     "name": "stdout",
     "output_type": "stream",
     "text": [
      "200 minutes is 3.33 hours\n"
     ]
    }
   ],
   "source": [
    "#This will convert 200 minutes to hours by dividing by 60\n",
    "x = 200\n",
    "y = round(x/60, 2)\n",
    "print(x, \"minutes is\", y, \"hours\")"
   ]
  },
  {
   "cell_type": "code",
   "execution_count": null,
   "id": "92687763-b6ba-45a0-95e0-9e3c9ba5dcd2",
   "metadata": {},
   "outputs": [],
   "source": []
  }
 ],
 "metadata": {
  "kernelspec": {
   "display_name": "Python 3 (ipykernel)",
   "language": "python",
   "name": "python3"
  },
  "language_info": {
   "codemirror_mode": {
    "name": "ipython",
    "version": 3
   },
   "file_extension": ".py",
   "mimetype": "text/x-python",
   "name": "python",
   "nbconvert_exporter": "python",
   "pygments_lexer": "ipython3",
   "version": "3.11.9"
  }
 },
 "nbformat": 4,
 "nbformat_minor": 5
}
